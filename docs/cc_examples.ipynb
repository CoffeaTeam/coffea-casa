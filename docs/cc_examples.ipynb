{
 "cells": [
  {
   "cell_type": "markdown",
   "id": "2b742bde-4d13-40dc-92d3-27ebafd1f17a",
   "metadata": {},
   "source": [
    "# Detailed Examples for Coffea-Casa"
   ]
  },
  {
   "cell_type": "markdown",
   "id": "cea688af-8042-494e-af78-2f0451a4508d",
   "metadata": {},
   "source": [
    "## OpenData Example"
   ]
  },
  {
   "cell_type": "markdown",
   "id": "c5971f51-4d14-4052-b3ce-5a42706688a4",
   "metadata": {},
   "source": [
    "In this example (which corresponds to [ADL Benchmark 1](https://github.com/CoffeaTeam/coffea-casa-tutorials/blob/master/examples/example1.ipynb)), we'll try to run a simple analysis example on the Coffea-Casa Analysis Facility. We will use the *coffea_casa* wrapper library, which allows use of pre-configured settings for HTCondor configuration and Dask scheduler/worker images.\n",
    "\n",
    "Our goal in this toy analysis is to plot the missing transverse energy (*MET*) of all events from a sample dataset; this data was converted from 2012 CMS Open Data (17 GB, 54 million events), and is available in public EOS (root://eospublic.cern.ch//eos/root-eos/benchmark/Run2012B_SingleMu.root).\n",
    "\n",
    "First, we need to import the *coffea* libraries used in this example:"
   ]
  },
  {
   "cell_type": "code",
   "execution_count": 1,
   "id": "62cc24ae-ae3d-4fde-b965-68e37195dd4c",
   "metadata": {},
   "outputs": [],
   "source": [
    "import numpy as np\n",
    "%matplotlib inline\n",
    "from coffea import hist\n",
    "import coffea.processor as processor\n",
    "import awkward as ak\n",
    "from coffea.nanoevents import schemas"
   ]
  },
  {
   "cell_type": "markdown",
   "id": "54ac0e95-a79d-4ec6-b834-7c7cc06ac3f1",
   "metadata": {},
   "source": [
    "To select the aforementioned data in a coffea-friendly syntax, we employ a dictionary of datasets, where each dataset (key) corresponds to a list of files (values):"
   ]
  },
  {
   "cell_type": "code",
   "execution_count": 2,
   "id": "770c19ad-16a7-4b7a-b3ee-363d24ba8e16",
   "metadata": {},
   "outputs": [],
   "source": [
    "fileset = {'SingleMu' : [\"root://eospublic.cern.ch//eos/root-eos/benchmark/Run2012B_SingleMu.root\"]}"
   ]
  },
  {
   "cell_type": "markdown",
   "id": "6f32cec8-5873-4b29-8e14-cdd452a89d83",
   "metadata": {},
   "source": [
    "Coffea provides the coffea.processor module, where users may write their analysis code without worrying about the details of efficient parallelization, assuming that the parallelization is a trivial map-reduce operation (e.g., filling histograms and adding them together).\n"
   ]
  },
  {
   "cell_type": "code",
   "execution_count": 3,
   "id": "a71707e3-0684-4993-8bd9-6395f2914a30",
   "metadata": {},
   "outputs": [],
   "source": [
    "# This program plots an event-level variable (in this case, MET, but switching it is as easy as a dict-key change). It also demonstrates an easy use of the book-keeping cutflow tool, to keep track of the number of events processed.\n",
    "\n",
    "# The processor class bundles our data analysis together while giving us some helpful tools.  It also leaves looping and chunks to the framework instead of us.\n",
    "class Processor(processor.ProcessorABC):\n",
    "    def __init__(self):\n",
    "        # Bins and categories for the histogram are defined here. For format, see https://coffeateam.github.io/coffea/stubs/coffea.hist.hist_tools.Hist.html && https://coffeateam.github.io/coffea/stubs/coffea.hist.hist_tools.Bin.html\n",
    "        dataset_axis = hist.Cat(\"dataset\", \"\")\n",
    "        MET_axis = hist.Bin(\"MET\", \"MET [GeV]\", 50, 0, 100)\n",
    "\n",
    "        # The accumulator keeps our data chunks together for histogramming. It also gives us cutflow, which can be used to keep track of data.\n",
    "        self._accumulator = processor.dict_accumulator({\n",
    "            'MET': hist.Hist(\"Counts\", dataset_axis, MET_axis),\n",
    "            'cutflow': processor.defaultdict_accumulator(int)\n",
    "        })\n",
    "\n",
    "    @property\n",
    "    def accumulator(self):\n",
    "        return self._accumulator\n",
    "\n",
    "    def process(self, events):\n",
    "        output = self.accumulator.identity()\n",
    "\n",
    "        # This is where we do our actual analysis. The dataset has columns similar to the TTree's; events.columns can tell you them, or events.[object].columns for deeper depth.\n",
    "        dataset = events.metadata[\"dataset\"]\n",
    "        MET = events.MET.pt\n",
    "\n",
    "        # We can define a new key for cutflow (in this case 'all events'). Then we can put values into it. We need += because it's per-chunk (demonstrated below)\n",
    "        output['cutflow']['all events'] += ak.size(MET)\n",
    "        output['cutflow']['number of chunks'] += 1\n",
    "\n",
    "        # This fills our histogram once our data is collected. The hist key ('MET=') will be defined in the bin in __init__.\n",
    "        output['MET'].fill(dataset=dataset, MET=MET)\n",
    "        return output\n",
    "\n",
    "    def postprocess(self, accumulator):\n",
    "        return accumulator"
   ]
  },
  {
   "cell_type": "markdown",
   "id": "c0aea027-641c-4c8c-bdca-3c85827cde29",
   "metadata": {},
   "source": [
    "With our data in our fileset variable and our processor ready to go, we simply need to connect to the Dask Labextention-powered cluster available within the Coffea-Casa Analysis Facility @ T2 Nebraska. This can be done by dragging the scheduler into the notebook, or by manually typing the following:"
   ]
  },
  {
   "cell_type": "code",
   "execution_count": 4,
   "id": "abec8789-775b-4a87-b011-2a808d2ac94c",
   "metadata": {},
   "outputs": [],
   "source": [
    "from dask.distributed import Client\n",
    "client = Client(\"tls://localhost:8786\")"
   ]
  },
  {
   "cell_type": "markdown",
   "id": "1be3240f-85cf-4f21-950b-be80c358cd89",
   "metadata": {},
   "source": [
    "Then we bundle everything up to run our job, making use of the Dask executor. To do this, we must point to a client within executor_args."
   ]
  },
  {
   "cell_type": "code",
   "execution_count": 5,
   "id": "fafcefa0-56fe-4ec5-8305-113654785c98",
   "metadata": {},
   "outputs": [
    {
     "name": "stdout",
     "output_type": "stream",
     "text": [
      "[########################################] | 100% Completed | 35.6s\r"
     ]
    }
   ],
   "source": [
    "executor = processor.DaskExecutor(client=client)\n",
    "run = processor.Runner(executor=executor,\n",
    "                        schema=schemas.NanoAODSchema,\n",
    "                       savemetrics=True\n",
    "                      )\n",
    "\n",
    "output, metrics = run(fileset, \"Events\", processor_instance=Processor())"
   ]
  },
  {
   "cell_type": "markdown",
   "id": "c051ef19-7cee-4236-8502-27f7ec795c8e",
   "metadata": {},
   "source": [
    "The final step is to generates a 1D histogram from the data output to the 'MET' key. fill_opts are optional arguments to fill the graph (default is a line)."
   ]
  },
  {
   "cell_type": "code",
   "execution_count": 6,
   "id": "5492c16f-2b91-4a8d-8767-ac3f83a9bfa7",
   "metadata": {},
   "outputs": [
    {
     "data": {
      "text/plain": [
       "<AxesSubplot:xlabel='MET [GeV]', ylabel='Counts'>"
      ]
     },
     "execution_count": 6,
     "metadata": {},
     "output_type": "execute_result"
    },
    {
     "data": {
      "image/png": "[encoded data removed]",
      "text/plain": [
       "<Figure size 432x288 with 1 Axes>"
      ]
     },
     "metadata": {
      "needs_background": "light"
     },
     "output_type": "display_data"
    }
   ],
   "source": [
    "hist.plot1d(output['MET'], overlay='dataset', fill_opts={'edgecolor': (0,0,0,0.3), 'alpha': 0.8})"
   ]
  },
  {
   "cell_type": "markdown",
   "id": "9fe1617e-679a-4a63-a557-e1822f3a5ebe",
   "metadata": {},
   "source": [
    "## CMS Example"
   ]
  },
  {
   "cell_type": "markdown",
   "id": "8e54535b-20ce-4ffb-a4aa-ada22808253c",
   "metadata": {},
   "source": [
    "**This section applies only to the CMS Coffea-Casa instance.**"
   ]
  },
  {
   "cell_type": "markdown",
   "id": "30190cf0-573b-4774-8a3c-e3ace7c28a12",
   "metadata": {},
   "source": [
    "Now we will try to run a short example, using CMS data, which corresponds to plotting the `dimuon Z-peak <https://github.com/CoffeaTeam/coffea-casa-tutorials/blob/master/examples/zpeak_example.ipynb>`_. We use dimuon data which consists of ~3 million events at ~2.7 GB which belongs to the ``/DoubleMuon/Run2018A-02Apr2020-v1/NANOAOD`` dataset.\n",
    "\n",
    "We import some common coffea libraries used in this example:"
   ]
  },
  {
   "cell_type": "code",
   "execution_count": 7,
   "id": "84e7a2e7-57e2-4f94-90fb-37863dddc8cf",
   "metadata": {},
   "outputs": [],
   "source": [
    "import numpy as np\n",
    "from coffea import hist\n",
    "import coffea.processor as processor\n",
    "%matplotlib inline"
   ]
  },
  {
   "cell_type": "markdown",
   "id": "6db9dc7b-a900-44e6-8d6b-e9447515f971",
   "metadata": {},
   "source": [
    "To select the aforementioned data in a coffea-friendly syntax, we employ a dictionary of datasets, where each dataset (key) corresponds to a list of files (values):"
   ]
  },
  {
   "cell_type": "code",
   "execution_count": 8,
   "id": "f4cc20f4-e474-47e9-922d-193159ff9976",
   "metadata": {},
   "outputs": [],
   "source": [
    "fileset = {'DoubleMu' : ['root://xcache//store/data/Run2018A/DoubleMuon/NANOAOD/02Apr2020-v1/30000/0555868D-6B32-D249-9ED1-6B9A6AABDAF7.root',\n",
    "                        'root://xcache//store/data/Run2018A/DoubleMuon/NANOAOD/02Apr2020-v1/30000/07796DC0-9F65-F940-AAD1-FE82262B4B03.root',\n",
    "                        'root://xcache//store/data/Run2018A/DoubleMuon/NANOAOD/02Apr2020-v1/30000/09BED5A5-E6CC-AC4E-9344-B60B3A186CFA.root']}"
   ]
  },
  {
   "cell_type": "markdown",
   "id": "ac4498fa-8adb-4cc5-bb27-a3e00699bea5",
   "metadata": {},
   "source": [
    "Coffea provides the coffea.processor module, where users may write their analysis code without worrying about the details of efficient parallelization, assuming that the parallelization is a trivial map-reduce operation (e.g., filling histograms and adding them together)."
   ]
  },
  {
   "cell_type": "code",
   "execution_count": 9,
   "id": "c283ff76-23ac-4c30-b7b8-aadbe14623bc",
   "metadata": {},
   "outputs": [],
   "source": [
    "class Processor(processor.ProcessorABC):\n",
    "    def __init__(self):\n",
    "        dataset_axis = hist.Cat(\"dataset\", \"Dataset\")\n",
    "        dimu_mass_axis = hist.Bin(\"dimu_mass\", \"$\\mu\\mu$ Mass [GeV]\", 50, 20, 120)\n",
    "\n",
    "        self._accumulator = processor.dict_accumulator({\n",
    "            'dimu_mass': hist.Hist(\"Counts\", dataset_axis, dimu_mass_axis),\n",
    "        })\n",
    "\n",
    "    @property\n",
    "    def accumulator(self):\n",
    "        return self._accumulator\n",
    "\n",
    "    def process(self, events):\n",
    "        output = self.accumulator.identity()\n",
    "\n",
    "        dataset = events.metadata[\"dataset\"]\n",
    "\n",
    "        mu = events.Muon\n",
    "        # Select events with 2 muons whose charges cancel out (Zs are charge-neutral).\n",
    "        dimu_neutral = mu[(ak.num(mu) == 2) & (ak.sum(mu.charge, axis=1) == 0)]\n",
    "        # Add together muon pair p4's, find dimuon mass.\n",
    "        dimu_mass = (dimu_neutral[:, 0] + dimu_neutral[:, 1]).mass\n",
    "        # Plot dimuon mass.\n",
    "        output['dimu_mass'].fill(dataset=dataset, dimu_mass=dimu_mass)\n",
    "        return output\n",
    "\n",
    "    def postprocess(self, accumulator):\n",
    "        return accumulator"
   ]
  },
  {
   "cell_type": "markdown",
   "id": "47dc84db-faff-4d67-a86e-e316de84b113",
   "metadata": {},
   "source": [
    "With our data in our fileset variable and our processor ready to go, we simply need to connect to the Dask Labextention-powered cluster available within the Coffea-Casa Analysis Facility @ T2 Nebraska. This can be done by dragging the scheduler into the notebook, or by manually typing the following:"
   ]
  },
  {
   "cell_type": "code",
   "execution_count": 10,
   "id": "0a13754b-aad2-4552-a319-249f1a7048a6",
   "metadata": {},
   "outputs": [],
   "source": [
    "from dask.distributed import Client\n",
    "client = Client(\"tls://localhost:8786\")"
   ]
  },
  {
   "cell_type": "markdown",
   "id": "ec247ea8-a829-47a5-89c4-3bee9e914bb6",
   "metadata": {},
   "source": [
    "Then we bundle everything up to run our job, making use of the Dask executor. To do this, we must point to a client within executor_args."
   ]
  },
  {
   "cell_type": "code",
   "execution_count": 11,
   "id": "fae221c5-5d68-40e4-a9d7-78b354ba1b40",
   "metadata": {},
   "outputs": [
    {
     "name": "stdout",
     "output_type": "stream",
     "text": [
      "[########################################] | 100% Completed | 18.3s\r"
     ]
    }
   ],
   "source": [
    "executor = processor.DaskExecutor(client=client)\n",
    "run = processor.Runner(executor=executor,\n",
    "                        schema=schemas.NanoAODSchema,\n",
    "                      )\n",
    "\n",
    "output = run(fileset, \"Events\", processor_instance=Processor())"
   ]
  },
  {
   "cell_type": "markdown",
   "id": "38fea1da-cdd2-4e1a-a2f1-abfc3ec41cb6",
   "metadata": {},
   "source": [
    "The final step is to generates a 1D histogram from the data output to the 'MET' key. fill_opts are optional arguments to fill the graph (default is a line)."
   ]
  },
  {
   "cell_type": "code",
   "execution_count": 12,
   "id": "2003dae2-bc73-408d-8f82-2d85092418ab",
   "metadata": {},
   "outputs": [
    {
     "data": {
      "text/plain": [
       "<AxesSubplot:xlabel='$\\\\mu\\\\mu$ Mass [GeV]', ylabel='Counts'>"
      ]
     },
     "execution_count": 12,
     "metadata": {},
     "output_type": "execute_result"
    },
    {
     "data": {
      "image/png": "[encoded data removed]",
      "text/plain": [
       "<Figure size 432x288 with 1 Axes>"
      ]
     },
     "metadata": {
      "needs_background": "light"
     },
     "output_type": "display_data"
    }
   ],
   "source": [
    "hist.plot1d(output['dimu_mass'], overlay='dataset', fill_opts={'edgecolor': (0,0,0,0.3), 'alpha': 0.8})"
   ]
  }
 ],
 "metadata": {
  "kernelspec": {
   "display_name": "Python 3 (ipykernel)",
   "language": "python",
   "name": "python3"
  },
  "language_info": {
   "codemirror_mode": {
    "name": "ipython",
    "version": 3
   },
   "file_extension": ".py",
   "mimetype": "text/x-python",
   "name": "python",
   "nbconvert_exporter": "python",
   "pygments_lexer": "ipython3",
   "version": "3.8.13"
  }
 },
 "nbformat": 4,
 "nbformat_minor": 5
}
