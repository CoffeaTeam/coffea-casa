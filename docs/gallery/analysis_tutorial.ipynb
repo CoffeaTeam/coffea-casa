{
 "cells": [
  {
   "cell_type": "markdown",
   "metadata": {},
   "source": [
    "# Coffea-Casa tHq Analysis Tutorial"
   ]
  },
  {
   "cell_type": "markdown",
   "metadata": {},
   "source": [
    "<h2>Authors</h2>\n",
    "<b>Notebook by:</b> Mat Adamec (<i>UNL</i>)\n",
    "<br/>\n",
    "<b>This tutorial was presented at PyHEP 2020:</b> <a href=\"https://youtu.be/oPl0t8J36-Q\">see it on YouTube</a> (sorry for the minor audio issues!)\n",
    "<br/>\n",
    "<br/>\n",
    "<b>coffea:</b>\n",
    "<br/>\n",
    "<a href=\"https://doi.org/10.5281/zenodo.3899563\"><img src=\"https://zenodo.org/badge/DOI/10.5281/zenodo.3899563.svg\" alt=\"DOI\" align=\"left\"></a>\n",
    "<br/>\n",
    "    <ul>\n",
    "        <li>Lindsey Gray, Matteo Cremonesi, Bo Jayatilaka, Oliver Gutsche, Nick Smith, Allison Hall, Kevin Pedro, Maria Acosta <i>(FNAL)</i>; Andrew Melo <i>(Vanderbilt)</i>; Stefano Belforte <i>(INFN)</i>; and others</li>\n",
    "        <li>In collaboration with IRIS-HEP members: Jim Pivarski <i>(Princeton)</i>, Ben Galewsky <i>(NCSA)</i>, Mark Neubauer <i>(UIUC)</i></li>\n",
    "        <br/>\n",
    "    </ul>\n",
    "<b><a href=\"https://github.com/CoffeaTeam/coffea-casa\">coffea-casa</a>:</b>\n",
    "    <ul>\n",
    "        <li>Ken Bloom, Oksana Shadura <i>(UNL)</i>; Garhan Attebury, Carl Lundstedt, Derek Weitzel <i>(UNL-HCC)</i>; Mátyás Selmeci <i>(UWM)</i>; Brian Bockelman <i>(Morgridge Institute)</i></li>\n",
    "    </ul>\n",
    "<hr />\n",
    "<h2>Introduction</h2>\n",
    "<p>This tutorial is intended to be a walkthrough of the foundations of an analysis implemented in Coffea (specifically, single top-Higgs production, <a href=\"https://doi.org/10.1103/PhysRevD.99.092005\">https://doi.org/10.1103/PhysRevD.99.092005</a>). We will go through data selection using a columnar representation, go over some edge cases to that representation, and plot some relevant data. At the end, we will wrap everything together and demonstrate how Coffea can be easily deployed for scaling an analysis up. This is also a prime opportunity to show off a prototype analysis facility being developed by the coffea-casa team, which was also presented at PyHEP 2020 by Oksana Shadura (\"<a href=\"https://www.youtube.com/watch?v=CDIFd1gDbSc\">YouTube: A prototype U.S. CMS analysis facility</a>\").</p>\n",
    "\n",
    "\n",
    "<h2>Foundations</h2>\n",
    "<p>For the purposes of this tutorial, we will load in a sample file used in the analysis, as well as NanoEvents from the Coffea package. A <a href=\"https://coffeateam.github.io/coffea/notebooks/nanoevents.html\">NanoEvents tutorial</a> is available which gives a detailed description, but I will give a quick exploration of how it can be used to access data.</p>"
   ]
  },
  {
   "cell_type": "code",
   "execution_count": 1,
   "metadata": {},
   "outputs": [],
   "source": [
    "import numpy as np\n",
    "import awkward as ak\n",
    "from coffea.nanoevents import NanoEventsFactory, NanoAODSchema\n",
    "import time\n",
    "\n",
    "file = 'root://xcache//store/mc/RunIISummer16NanoAODv5/THQ_Hincl_13TeV-madgraph-pythia8_TuneCUETP8M1/NANOAODSIM/PUMoriond17_Nano1June2019_102X_mcRun2_asymptotic_v7-v1/100000/38E83594-51BD-7D46-B96D-620DD60078A7.root'\n",
    "events = NanoEventsFactory.from_root(file, entry_stop=100000).events()"
   ]
  },
  {
   "cell_type": "markdown",
   "metadata": {},
   "source": [
    "<p>NanoEvents lazily reads <code>file</code> into a jagged array structure (specifically, an <a href=\"https://github.com/scikit-hep/awkward-array\">awkward array</a>), <code>events</code>. We can poke around <code>events</code> by looking at the <code>.fields</code> attribute, which tells us all of the possible fields we can access.</p>"
   ]
  },
  {
   "cell_type": "code",
   "execution_count": 2,
   "metadata": {},
   "outputs": [
    {
     "name": "stdout",
     "output_type": "stream",
     "text": [
      "[<event 1:351:70006>, <event 1:351:70008>, ... <event 1:3340:167977>]\n",
      "\n",
      "\n",
      "['HTXS', 'SoftActivityJetHT10', 'SoftActivityJet', 'Muon', 'GenJetAK8', 'HLTriggerFirstPath', 'L1', 'LHEWeight', 'ChsMET', 'SoftActivityJetHT5', 'SubJet', 'Generator', 'fixedGridRhoFastjetCentral', 'fixedGridRhoFastjetAll', 'LHEScaleWeight', 'LHEPart', 'TrigObj', 'LHE', 'OtherPV', 'GenJet', 'run', 'PSWeight', 'SoftActivityJetHT2', 'CaloMET', 'Photon', 'fixedGridRhoFastjetCentralNeutral', 'MET', 'genWeight', 'PV', 'GenPart', 'HLTriggerFinalPath', 'luminosityBlock', 'TkMET', 'L1simulation', 'Jet', 'LHEReweightingWeight', 'fixedGridRhoFastjetCentralCalo', 'PuppiMET', 'Electron', 'Tau', 'GenVisTau', 'SV', 'CorrT1METJet', 'SoftActivityJetNjets10', 'SoftActivityJetNjets5', 'SubGenJetAK8', 'event', 'HLT', 'GenDressedLepton', 'genTtbarId', 'SoftActivityJetHT', 'SoftActivityJetNjets2', 'L1PreFiringWeight', 'LHEPdfWeight', 'RawMET', 'Pileup', 'Flag', 'GenMET', 'IsoTrack', 'FatJet', 'fixedGridRhoFastjetCentralChargedPileUp', 'btagWeight']\n"
     ]
    }
   ],
   "source": [
    "print(events)\n",
    "print('\\n')\n",
    "print(events.fields)"
   ]
  },
  {
   "cell_type": "markdown",
   "metadata": {},
   "source": [
    "<p>These fields can be accessed as attributes of the event array. Awkward1 functions can be executed to see additional information. For example, with <code>Muon</code>, we might want to see the size:</p>"
   ]
  },
  {
   "cell_type": "code",
   "execution_count": 33,
   "metadata": {},
   "outputs": [
    {
     "name": "stdout",
     "output_type": "stream",
     "text": [
      "[[Muon, Muon], [], [Muon], [], [], ... [Muon, Muon, Muon, Muon], [Muon], [Muon]]\n",
      "100000\n",
      "100919\n"
     ]
    }
   ],
   "source": [
    "print(events.Muon)\n",
    "print(ak.num(events.Muon, axis=0))\n",
    "print(ak.sum(ak.num(events.Muon, axis=1)))"
   ]
  },
  {
   "cell_type": "markdown",
   "metadata": {},
   "source": [
    "<p>A note about structure: notice that <code>events.Muon</code> is jagged; it is an array of subarrays, which have arbitrary length (they can even be empty)! The only thing that's necessary is that each event has one subarray. As we can see above, in our example some subarrays have one muon, some have two, some have none, some even have four; the total, however, is 100919 muons, spread across 100000 subarrays.</p>\n",
    "    \n",
    "<p>In Awkward, <code>ak.num</code> is the standard way to query size. Specifying axis=0 gives you the number of subarrays, while specifying axis=1 gives you an array with the sizes of each subarray, which you can then sum to get the number of muons. If there was further depth to our jaggedness, we might go to axis=2, and so on. Always, 0 is the \"least-deep\" axis and the maximum axis is the \"most-deep.\"</p>"
   ]
  },
  {
   "cell_type": "markdown",
   "metadata": {},
   "source": [
    "<p>The <code>Muon</code> array also has further depth to it (most event fields do!) We can look at its fields just as we did with the events array, and we can access any of them as an attribute of <code>events.Muon</code>. As an example, pt:"
   ]
  },
  {
   "cell_type": "code",
   "execution_count": 4,
   "metadata": {},
   "outputs": [
    {
     "name": "stdout",
     "output_type": "stream",
     "text": [
      "['charge', 'cleanmask', 'dxy', 'dxyErr', 'dz', 'dzErr', 'eta', 'genPartFlav', 'genPartIdx', 'genPartIdxG', 'highPtId', 'inTimeMuon', 'ip3d', 'isGlobal', 'isPFcand', 'isTracker', 'jetIdx', 'jetIdxG', 'jetPtRelv2', 'jetRelIso', 'looseId', 'mass', 'mediumId', 'mediumPromptId', 'miniIsoId', 'miniPFRelIso_all', 'miniPFRelIso_chg', 'multiIsoId', 'mvaId', 'mvaLowPt', 'mvaTTH', 'nStations', 'nTrackerLayers', 'pdgId', 'pfIsoId', 'pfRelIso03_all', 'pfRelIso03_chg', 'pfRelIso04_all', 'phi', 'pt', 'ptErr', 'segmentComp', 'sip3d', 'softId', 'softMvaId', 'tightCharge', 'tightId', 'tkIsoId', 'tkRelIso', 'triggerIdLoose', 'tunepRelPt']\n",
      "\n",
      "\n",
      "[[48.4, 32.7], [], [61.2], [], [], ... [49.6, 24.6, 11.8, 3.96], [3.95], [18]]\n"
     ]
    }
   ],
   "source": [
    "print(events.Muon.fields)\n",
    "print('\\n')\n",
    "print(events.Muon.pt)"
   ]
  },
  {
   "cell_type": "markdown",
   "metadata": {},
   "source": [
    "It's important that you feel comfortable accessing data within the <code>events</code> array as a basis for the rest of this tutorial. Please, take a moment and play around with it!"
   ]
  },
  {
   "cell_type": "code",
   "execution_count": null,
   "metadata": {},
   "outputs": [],
   "source": []
  },
  {
   "cell_type": "markdown",
   "metadata": {},
   "source": [
    "Now, we can access data, but how do we manipulate it? Possibly the most critical component of columnar analysis is the concept of masking. A mask is an array of booleans, which another array can be masked by, thus accepting or rejecting elements of that array based on whether the corresponding mask element is <code>True</code> or <code>False</code>. A basic example below:"
   ]
  },
  {
   "cell_type": "code",
   "execution_count": 5,
   "metadata": {},
   "outputs": [
    {
     "data": {
      "text/plain": [
       "array(['a', 'b', 'c'], dtype='<U1')"
      ]
     },
     "execution_count": 5,
     "metadata": {},
     "output_type": "execute_result"
    }
   ],
   "source": [
    "data = np.array(['a', 'b', 'd', 'c'])\n",
    "mask = np.array([True, True, False, True])\n",
    "\n",
    "data[mask]"
   ]
  },
  {
   "cell_type": "markdown",
   "metadata": {},
   "source": [
    "<p>We can generate a mask by executing a conditional statement involving any of our awkward arrays. Let's say we want to select muons whose pt > 40:</p>"
   ]
  },
  {
   "cell_type": "code",
   "execution_count": 6,
   "metadata": {},
   "outputs": [
    {
     "name": "stdout",
     "output_type": "stream",
     "text": [
      "Unmasked data:\n",
      "[[48.4, 32.7], [], [61.2], [], [], ... [49.6, 24.6, 11.8, 3.96], [3.95], [18]]\n",
      "\n",
      "Mask of data:\n",
      "[[True, False], [], [True], [], ... [True, False, False, False], [False], [False]]\n",
      "\n",
      "Masked data:\n",
      "[[48.4], [], [61.2], [], [], [77.5], [], ... [50.6], [], [], [], [49.6], [], []]\n"
     ]
    }
   ],
   "source": [
    "muons = events.Muon\n",
    "\n",
    "print('Unmasked data:')\n",
    "print(muons.pt)\n",
    "\n",
    "print('\\nMask of data:')\n",
    "print(muons.pt > 40)\n",
    "\n",
    "print('\\nMasked data:')\n",
    "print(muons.pt[muons.pt > 40])"
   ]
  },
  {
   "cell_type": "markdown",
   "metadata": {},
   "source": [
    "We will employ masking in our analysis to reject leptons and events which do not meet the cuts that we desire."
   ]
  },
  {
   "cell_type": "markdown",
   "metadata": {},
   "source": [
    "<h2>Lepton Selection</h2>\n",
    "<p>Let's now begin with some lepton selectionn, which lends itself towards a simple columnar implementation. We will begin with muons, which have relatively straight-forward cuts, and show off some more complexity with electrons. All tables of cuts are taken from the single top-Higgs analysis mentioned above.<p>\n",
    "\n",
    "<h3><center>Muon Selection</center></h3>\n",
    "\n",
    "<center><img src=\"../../docs/muon_selection_tabular.png\"/></center>\n",
    "\n",
    "How would we make these cuts with our columnar tools? An easy three-step plan: \n",
    "<ol>\n",
    "    <li>generate a mask for each condition</li>\n",
    "    <li>combine them together into a single mask</li>\n",
    "    <li>mask the muon array with the final mask</li>\n",
    "</ol>\n",
    "\n",
    "In practice, we can skip the second step by stringing our conditionals together with &'s. A quick warning: for masks in Coffea, '&' should always be used over 'and,' as the latter is considered ambiguous. This is an underlying quirk of numpy.\n",
    "\n",
    "<p>The only intermediate step is figuring out which fields you need and how they are structured; I've left in an extra cell if you want to poke at any specific ones.</p>"
   ]
  },
  {
   "cell_type": "code",
   "execution_count": 7,
   "metadata": {
    "scrolled": true
   },
   "outputs": [],
   "source": [
    "loose_muons = muons[(np.abs(muons.eta) < 2.4) &\n",
    "                    (muons.pt > 5) &\n",
    "                    (np.abs(muons.dxy) < 0.05) &\n",
    "                    (np.abs(muons.dz) < 0.1) &\n",
    "                    (muons.sip3d < 8) &\n",
    "                    (muons.miniPFRelIso_all < 0.4) &\n",
    "                    (muons.looseId)]\n",
    "                    # Note that no other cuts are necessary for loose muons!\n",
    "\n",
    "# To construct the tight selection, we may as well make use of the loose cut, since they overlap.\n",
    "tight_muons = loose_muons[(loose_muons.pt > 15) &\n",
    "                         (loose_muons.mediumId) &\n",
    "                         (loose_muons.tightCharge > 1) &\n",
    "                         (loose_muons.mvaTTH > 0.9)]"
   ]
  },
  {
   "cell_type": "code",
   "execution_count": 8,
   "metadata": {},
   "outputs": [
    {
     "name": "stdout",
     "output_type": "stream",
     "text": [
      "['charge', 'cleanmask', 'dxy', 'dxyErr', 'dz', 'dzErr', 'eta', 'genPartFlav', 'genPartIdx', 'genPartIdxG', 'highPtId', 'inTimeMuon', 'ip3d', 'isGlobal', 'isPFcand', 'isTracker', 'jetIdx', 'jetIdxG', 'jetPtRelv2', 'jetRelIso', 'looseId', 'mass', 'mediumId', 'mediumPromptId', 'miniIsoId', 'miniPFRelIso_all', 'miniPFRelIso_chg', 'multiIsoId', 'mvaId', 'mvaLowPt', 'mvaTTH', 'nStations', 'nTrackerLayers', 'pdgId', 'pfIsoId', 'pfRelIso03_all', 'pfRelIso03_chg', 'pfRelIso04_all', 'phi', 'pt', 'ptErr', 'segmentComp', 'sip3d', 'softId', 'softMvaId', 'tightCharge', 'tightId', 'tkIsoId', 'tkRelIso', 'triggerIdLoose', 'tunepRelPt']\n",
      "\n",
      "\n",
      "[[True, True], [], [True], [], [], ... [True, False, False, True], [True], [True]]\n"
     ]
    }
   ],
   "source": [
    "print(muons.fields)\n",
    "print('\\n')\n",
    "print(muons.mediumId)"
   ]
  },
  {
   "cell_type": "markdown",
   "metadata": {},
   "source": [
    "<p>Let's do the same thing for electrons, which are slightly complicated because some of the cuts fall into a set of two ranges: 0 < |$\\eta$| < 1.479 and 1.479 < |$\\eta$| < 2.5. These are listed respectively in parentheses: (<i>range 1, range 2</i>).</p>\n",
    "\n",
    "<h3><center>Electron Selection</center></h3>\n",
    "\n",
    "<center><img src=\"../../docs/electron_selection_tabular.png\"/></center>\n",
    "\n",
    "A cell has been provided, again, for field-prodding purposes."
   ]
  },
  {
   "cell_type": "code",
   "execution_count": 9,
   "metadata": {},
   "outputs": [],
   "source": [
    "electrons = events.Electron\n",
    "\n",
    "# This ends up getting referenced a lot. Let's not generate it every time!\n",
    "abs_eta = np.abs(electrons.eta)\n",
    "\n",
    "loose_electrons = electrons[(abs_eta < 2.5) &\n",
    "                           (electrons.pt > 7) &\n",
    "                           (np.abs(electrons.dxy) < 0.05) &\n",
    "                           (np.abs(electrons.dz) < 0.1) &\n",
    "                           (electrons.miniPFRelIso_all < 0.4) &\n",
    "                           (electrons.lostHits < 2) &\n",
    "                           # The scary one, the only one with two ranges in loose selection. \n",
    "                           (((electrons.mvaFall17V2noIso > 0) & (abs_eta < 1.479)) |\n",
    "                            ((electrons.mvaFall17V2noIso > 0.7) & (abs_eta > 1.479) & (abs_eta < 2.5)))]\n",
    "\n",
    "# Again, all tight leptons pass the loose cut, so we may as well cut down on passing the same cuts twice.\n",
    "# But we'll have to redefine abs_eta again!\n",
    "abs_eta = np.abs(loose_electrons.eta)\n",
    "\n",
    "tight_electrons = loose_electrons[(loose_electrons.pt > 15) &\n",
    "                                 (loose_electrons.lostHits == 0) &\n",
    "                                 (loose_electrons.tightCharge > 1) &\n",
    "                                 (loose_electrons.convVeto) &\n",
    "                                 (loose_electrons.mvaTTH > 0.90) &\n",
    "                                 # Two ranges for sigma_ieie.\n",
    "                                 (((abs_eta < 1.479) & (loose_electrons.sieie < 0.011)) | \n",
    "                                 ((abs_eta < 2.5) & (abs_eta > 1.479) & (loose_electrons.sieie < 0.03))) &\n",
    "                                 # Two ranges for H/E\n",
    "                                 (((abs_eta < 1.479) & (loose_electrons.hoe < 0.1)) | \n",
    "                                 ((abs_eta < 2.5) & (abs_eta > 1.479) & (loose_electrons.hoe < 0.07))) &\n",
    "                                 # Two ranges for 1/E - 1/p\n",
    "                                 (((abs_eta < 1.479) & (loose_electrons.eInvMinusPInv < 0.01) & (loose_electrons.eInvMinusPInv > -0.05)) |\n",
    "                                 ((abs_eta < 2.5) & (abs_eta > 1.479) & (loose_electrons.eInvMinusPInv < 0.005) & (loose_electrons.eInvMinusPInv > -0.05)))]"
   ]
  },
  {
   "cell_type": "code",
   "execution_count": 10,
   "metadata": {},
   "outputs": [
    {
     "name": "stdout",
     "output_type": "stream",
     "text": [
      "['charge', 'cleanmask', 'convVeto', 'cutBased', 'cutBased_Fall17_V1', 'cutBased_HEEP', 'cutBased_HLTPreSel', 'cutBased_Spring15', 'cutBased_Sum16', 'deltaEtaSC', 'dr03EcalRecHitSumEt', 'dr03HcalDepth1TowerSumEt', 'dr03TkSumPt', 'dr03TkSumPtHEEP', 'dxy', 'dxyErr', 'dz', 'dzErr', 'eCorr', 'eInvMinusPInv', 'energyErr', 'eta', 'genPartFlav', 'genPartIdx', 'genPartIdxG', 'hoe', 'ip3d', 'isPFcand', 'jetIdx', 'jetIdxG', 'jetPtRelv2', 'jetRelIso', 'lostHits', 'mass', 'miniPFRelIso_all', 'miniPFRelIso_chg', 'mvaFall17V1Iso', 'mvaFall17V1Iso_WP80', 'mvaFall17V1Iso_WP90', 'mvaFall17V1Iso_WPL', 'mvaFall17V1noIso', 'mvaFall17V1noIso_WP80', 'mvaFall17V1noIso_WP90', 'mvaFall17V1noIso_WPL', 'mvaFall17V2Iso', 'mvaFall17V2Iso_WP80', 'mvaFall17V2Iso_WP90', 'mvaFall17V2Iso_WPL', 'mvaFall17V2noIso', 'mvaFall17V2noIso_WP80', 'mvaFall17V2noIso_WP90', 'mvaFall17V2noIso_WPL', 'mvaSpring16GP', 'mvaSpring16GP_WP80', 'mvaSpring16GP_WP90', 'mvaSpring16HZZ', 'mvaSpring16HZZ_WPL', 'mvaTTH', 'pdgId', 'pfRelIso03_all', 'pfRelIso03_chg', 'phi', 'photonIdx', 'photonIdxG', 'pt', 'r9', 'seedGain', 'sieie', 'sip3d', 'tightCharge', 'vidNestedWPBitmap', 'vidNestedWPBitmapSpring15', 'vidNestedWPBitmapSum16']\n",
      "\n",
      "\n",
      "[[], [0, 0], [0, 0, 0], [3, 0], [], [0, 0, 0, ... [0], [2, 3], [0], [], [1], [1], []]\n"
     ]
    }
   ],
   "source": [
    "print(events.Electron.fields)\n",
    "print('\\n')\n",
    "print(events.Electron.lostHits)"
   ]
  },
  {
   "cell_type": "markdown",
   "metadata": {},
   "source": [
    "<h2>Event Selections</h2>\n",
    "<p>Okay, now that we've selected some good leptons, let's follow the event selection as prescribed:</p>\n",
    "\n",
    "<center><img src=\"../../docs/event_selection_tabular.png\"/></center>\n",
    "\n",
    "In order to simplify all of these cuts, we're just going to go step-by-step in generating individual masks for each condition, and then we'll combine them all at the end. We begin with the jet cuts. Note that we're only interested in having <b>at least one</b> jet passing or failing the respective working points, so while any conditionals we make are per-jet, what we actually want is a per-event mask. We can sum the <code>True</code>s in each subarray and make sure there is at least one, since they are equivalent to 1 (and <code>False</code> is 0)."
   ]
  },
  {
   "cell_type": "code",
   "execution_count": 11,
   "metadata": {},
   "outputs": [
    {
     "name": "stdout",
     "output_type": "stream",
     "text": [
      "Jet Level (all jets)\n",
      "[[False, False, True, False, False, False, ... False, False, False, False, False]]\n",
      "\n",
      "Event Level (at least one jet)\n",
      "[True, True, True, True, True, True, True, ... False, True, True, True, True, True]\n"
     ]
    }
   ],
   "source": [
    "loose_wp = 0.5425\n",
    "medium_wp = 0.8484\n",
    "        \n",
    "jets = events.Jet\n",
    "\n",
    "jetMask_medium = ((np.abs(jets.eta) < 2.4) & (jets.pt > 25) &\n",
    "                  (jets.btagCSVV2 > medium_wp))\n",
    "print('Jet Level (all jets)')\n",
    "print(jetMask_medium)\n",
    "jetMask_medium = ak.sum(jetMask_medium, axis=1) >= 1\n",
    "print('\\nEvent Level (at least one jet)')\n",
    "print(jetMask_medium)\n",
    "\n",
    "jetMask_loose = ak.sum(((((np.abs(jets.eta) < 2.4) & (jets.pt > 25)) | ((jets.pt > 40) & (np.abs(jets.eta) > 2.4))) &\n",
    "                 (jets.btagCSVV2 <= loose_wp)), axis=1) >= 1"
   ]
  },
  {
   "cell_type": "markdown",
   "metadata": {},
   "source": [
    "<p>Okay, the next challenge we come to is making sure there are \"no loose leptons with $m_{ll} < 12 GeV$.\" A problem immediately arises: how do we work with all pairs of <b>leptons</b>? We have an array of muons, we have an array of electrons, but we don't have a singular <code>Lepton</code> object. A columnar solution would be to construct such an object, while adding in an additional index variable to identify muons and electrons apart from each other, so that they remain distinct.</p>\n",
    "\n",
    "<p>As of Awkward1, building such an object is possible (for versions of coffea < 0.7, you'll have to find a workaround)! We first need to add a flavor field (which is labeled 0 for muons, 1 for electrons), and then concatenate the two lepton arrays:</p>"
   ]
  },
  {
   "cell_type": "code",
   "execution_count": 12,
   "metadata": {},
   "outputs": [],
   "source": [
    "loose_muons = ak.with_field(loose_muons, 0, 'flavor')\n",
    "loose_electrons = ak.with_field(loose_electrons, 1, 'flavor')\n",
    "# Note the addition of ak.with_name. This just preserves the use of some functions that Muon and Electron had (e.g., delta_r())\n",
    "loose_leptons = ak.with_name(ak.concatenate([loose_muons, loose_electrons], axis=1), 'PtEtaPhiMCandidate')"
   ]
  },
  {
   "cell_type": "markdown",
   "metadata": {},
   "source": [
    "Let's take a look at this in practice. Below, we can see our muon and electron pts, and then the pts of our new leptons array. We can still recover whether an object is a <code>Muon</code> or <code>Electron</code> because we've added our flavor field."
   ]
  },
  {
   "cell_type": "code",
   "execution_count": 34,
   "metadata": {},
   "outputs": [
    {
     "name": "stdout",
     "output_type": "stream",
     "text": [
      "Muons:\n",
      "[[32.7], [], [61.2], [], [], [77.5], [], ... [50.6], [], [], [15.9], [], [], []]\n",
      "\n",
      "Electrons:\n",
      "[[], [84.5, 27.3], [89.7], [37.1], [], [], ... 94.4], [], [95.8], [], [], [7.58], []]\n",
      "\n",
      "Leptons:\n",
      "[[32.7], [84.5, 27.3], [61.2, 89.7], [37.1], ... [95.8], [15.9], [], [7.58], []]\n",
      "\n",
      "Lepton Types:\n",
      "[[0], [1, 1], [0, 1], [1], [], [0], [], ... 1], [0, 1], [], [1], [0], [], [1], []]\n"
     ]
    }
   ],
   "source": [
    "print('Muons:')\n",
    "print(loose_muons.pt)\n",
    "print('\\nElectrons:')\n",
    "print(loose_electrons.pt)\n",
    "print('\\nLeptons:')\n",
    "print(loose_leptons.pt)\n",
    "print('\\nLepton Types:')\n",
    "print(loose_leptons.flavor)"
   ]
  },
  {
   "cell_type": "markdown",
   "metadata": {},
   "source": [
    "<p>Now, let's return to our selection! Recall that our goal is to have \"no loose leptons with $m_{ll} < 12 GeV$.\" Okay; all we need is to generate all pairs within our <code>loose_leptons</code> array and ensure they meet our mass requirement.</p>\n",
    "\n",
    "<p>Luckily, Awkward1 also comes with combinatorics tools that help us with the \"get all pairs\" portion. In particular, <code>ak.combinations(loose_leptons, 2)</code> will generate all possible pairs of leptons in each event. We can add an optional <code>fields</code> attribute so that we can retrieve each part of the pairs (for, say, adding them together).</p>\n",
    "    \n",
    "<p>Below, we print the pt of each subcomponent of this process as a demonstration. Note some limitations: <code>loose_pairs</code> does not have a pt because it is a tuple, so to see the pt of both of our pairs I had to generate a separate combination of the <code>loose_leptons</code> pts.</p>"
   ]
  },
  {
   "cell_type": "code",
   "execution_count": 14,
   "metadata": {},
   "outputs": [
    {
     "name": "stdout",
     "output_type": "stream",
     "text": [
      "Leptons:\n",
      "[[32.7], [84.5, 27.3], [61.2, 89.7], [37.1], ... [95.8], [15.9], [], [7.58], []]\n",
      "\n",
      "Lepton Pairs:\n",
      "[[], [(84.5, 27.3)], [(61.2, 89.7)], [], ... 50.6, 94.4)], [], [], [], [], [], []]\n",
      "\n",
      "First of Pair:\n",
      "[[], [84.5], [61.2], [], [], [], [], [], ... [], [50.6], [], [], [], [], [], []]\n",
      "\n",
      "Second of Pair:\n",
      "[[], [27.3], [89.7], [], [], [], [], [], ... [], [94.4], [], [], [], [], [], []]\n"
     ]
    }
   ],
   "source": [
    "loose_pairs = ak.combinations(loose_leptons, 2, fields=['i0', 'i1'])\n",
    "print('Leptons:')\n",
    "print(loose_leptons.pt)\n",
    "print('\\nLepton Pairs:')\n",
    "print(ak.combinations(loose_leptons.pt, 2))\n",
    "print('\\nFirst of Pair:')\n",
    "print(loose_pairs['i0'].pt)\n",
    "print('\\nSecond of Pair:')\n",
    "print(loose_pairs['i1'].pt)"
   ]
  },
  {
   "cell_type": "code",
   "execution_count": 15,
   "metadata": {},
   "outputs": [],
   "source": [
    "loose_pairs_mass = (loose_pairs.i0 + loose_pairs.i1).mass\n",
    "looseMask = (ak.all(loose_pairs_mass >= 12, axis=1) & ak.num(loose_pairs_mass) > 0)"
   ]
  },
  {
   "cell_type": "markdown",
   "metadata": {},
   "source": [
    "<p>We will now implement the rest of these, making use of our stacked array object. As a reminder, those cuts are:</p>\n",
    "\n",
    "<center><img src=\"../../docs/event_selection_tabular.png\"/></center>"
   ]
  },
  {
   "cell_type": "code",
   "execution_count": 16,
   "metadata": {},
   "outputs": [],
   "source": [
    "# Dilepton selection.\n",
    "tight_muons = ak.with_field(tight_muons, 0, 'flavor')\n",
    "tight_electrons = ak.with_field(tight_electrons, 1, 'flavor')\n",
    "tight_leptons = ak.with_name(ak.concatenate([tight_muons, tight_electrons], axis=1), 'PtEtaPhiMCandidate')\n",
    "tight_pairs = ak.combinations(tight_leptons, 2, fields=['i0', 'i1'])\n",
    "\n",
    "# We want exactly one same-sign pair.\n",
    "dileptonMask = ak.any(((ak.num(tight_pairs) == 1) & (tight_pairs['i0'].charge == tight_pairs['i1'].charge)), axis=1)\n",
    "\n",
    "# We want at least one lepton to have pt > 25. They have pt > 15 through the lepton selection.\n",
    "dileptonMask = dileptonMask & ak.any(((tight_pairs['i0'].pt > 25) | (tight_pairs['i1'].pt > 25)), axis=1)\n",
    "\n",
    "# Okay, now we need to identify ee pairs, and check that their separation from the Z mass is sufficient.\n",
    "# Our flavor tracker helps us with this. If we add the flavor of a pair, then since e = 1, mu = 0, 2 indicates ee.\n",
    "tight_types = (tight_pairs['i0'].flavor + tight_pairs['i1'].flavor)\n",
    "dileptonMask = dileptonMask & ak.any(((tight_types < 2) | (np.abs((tight_pairs['i0'] + tight_pairs['i1']).mass - 91.18) > 10)), axis=1)\n",
    "    \n",
    "    \n",
    "# Trilepton selection.\n",
    "tight_triples = ak.combinations(tight_leptons, 3, fields=['i0', 'i1', 'i2'])\n",
    "\n",
    "# We want exactly three leptons in each event, or one triplet.\n",
    "trileptonMask = (ak.num(tight_triples) == 1)\n",
    "\n",
    "# Again, we want at least one lepton in the triplet to have pt > 25.\n",
    "trileptonMask = trileptonMask & ak.any((tight_triples['i0'].pt > 25) | (tight_triples['i1'].pt > 25) | (tight_triples['i2'].pt > 25), axis=1)\n",
    "\n",
    "# Then we want to discard OSSF pairs that are close to the Z mass. We don't need our stacked array for this.\n",
    "tight_muon_pairs = ak.combinations(tight_muons, 2, fields=['i0', 'i1'])\n",
    "tight_electron_pairs = ak.combinations(tight_electrons, 2, fields=['i0', 'i1'])\n",
    "\n",
    "# Takes a pair, tells you if it is an OSSF with |m_ll - m_z| < 15. Reject these events.\n",
    "def ossf_zmass_check(dileptons):\n",
    "    return ak.any((dileptons['i0'].charge != dileptons['i1'].charge) & \n",
    "            (np.abs(91.18 - (dileptons['i0'] + dileptons['i1']).mass) < 15.), axis=1)\n",
    "\n",
    "trileptonMask = trileptonMask & (~ossf_zmass_check(tight_muon_pairs)) & (~ossf_zmass_check(tight_electron_pairs))"
   ]
  },
  {
   "cell_type": "markdown",
   "metadata": {},
   "source": [
    "And that gives us masks for all of the conditions we need. We can now go back to our friendly arrays, put all of our masks together, and apply them to our leptons with ease, getting a dilepton and a three-lepton array for each lepton."
   ]
  },
  {
   "cell_type": "code",
   "execution_count": 17,
   "metadata": {},
   "outputs": [],
   "source": [
    "dilepton_event = (looseMask) & (dileptonMask) & (jetMask_medium) & (jetMask_loose)\n",
    "trilepton_event = (looseMask) & (trileptonMask) & (jetMask_medium) & (jetMask_loose)\n",
    "\n",
    "tight_ll_electrons = tight_electrons[dilepton_event]\n",
    "tight_lll_electrons = tight_electrons[trilepton_event]\n",
    "tight_ll_muons = tight_muons[dilepton_event]\n",
    "tight_lll_muons = tight_muons[trilepton_event]"
   ]
  },
  {
   "cell_type": "markdown",
   "metadata": {},
   "source": [
    "From here, we can break our results naturally into different channels in a columnar fashion. For example, mumu events are simply those where <code>tight_ll_muons.counts == 2</code>, as the dileptonMask guarantees events with 2 leptons, and 2 muons thus implies 0 electrons."
   ]
  },
  {
   "cell_type": "code",
   "execution_count": 18,
   "metadata": {},
   "outputs": [],
   "source": [
    "mumu_channel = tight_ll_muons[ak.num(tight_ll_muons) == 2]\n",
    "ee_channel = tight_ll_electrons[ak.num(tight_ll_electrons) == 2]"
   ]
  },
  {
   "cell_type": "markdown",
   "metadata": {},
   "source": [
    "<h2>Plotting</h2>\n",
    "<p>On to some visuals! Coffea has a Hist class dedicated to histogramming, which will be comfortable and familiar to use if you've ever touched Matplotlib. We can use this class, again with some minor columnar manipulations, to plot some parameters of interest. Let's stick to the mumu and ee channels for this, since they're already defined above.\n",
    "<p>Let's try something simple: a plot of the pt of the 2nd-highest-pt lepton in each event. Because awkward arrays are naturally sorted from highest to lowest pt, this'll just involve slicing an array to get the second muon in each event.</p>"
   ]
  },
  {
   "cell_type": "code",
   "execution_count": 19,
   "metadata": {},
   "outputs": [
    {
     "data": {
      "text/plain": [
       "<AxesSubplot:xlabel='Second pT', ylabel='Events'>"
      ]
     },
     "execution_count": 19,
     "metadata": {},
     "output_type": "execute_result"
    },
    {
     "data": {
      "image/png": "[encoded data removed]",
      "text/plain": [
       "<Figure size 432x288 with 1 Axes>"
      ]
     },
     "metadata": {
      "needs_background": "light"
     },
     "output_type": "display_data"
    }
   ],
   "source": [
    "from coffea import hist\n",
    "\n",
    "# For all event pts (:), get second index (1). Also, removed jagged structure to get flat array.\n",
    "mumu_pt2 = mumu_channel.pt[:, 1]\n",
    "ee_pt2 = ee_channel.pt[:, 1]\n",
    "\n",
    "second_pt = hist.Hist(\"Events\", \n",
    "                      hist.Cat(name='channel', label='Channel'), \n",
    "                      hist.Bin(name='pt2', label='Second pT', n_or_arr=20, lo= 0, hi=150))\n",
    "\n",
    "second_pt.fill(channel='mumu', pt2=mumu_pt2)\n",
    "second_pt.fill(channel='ee', pt2=ee_pt2)\n",
    "\n",
    "hist.plot1d(second_pt, overlay='channel')"
   ]
  },
  {
   "cell_type": "markdown",
   "metadata": {},
   "source": [
    "<p>How about something with a little more topology? Let's plot \"$\\Delta \\eta$ between the max-$\\eta$ light jet and the max-pt bjet.\" In our case, a light jet will be defined as one that fails <code>loose_wp</code> and a bjet will be one that passes <code>medium_wp</code>. For simplicity, we will stay strictly in the mumu channel."
   ]
  },
  {
   "cell_type": "code",
   "execution_count": 20,
   "metadata": {},
   "outputs": [],
   "source": [
    "mumu_jets = jets[dilepton_event & (ak.num(tight_muons) == 2)]\n",
    "\n",
    "light_jets = mumu_jets[mumu_jets.btagCSVV2 <= loose_wp]\n",
    "bjets = mumu_jets[mumu_jets.btagCSVV2 > medium_wp]"
   ]
  },
  {
   "cell_type": "markdown",
   "metadata": {},
   "source": [
    "Now, this cut is simplified slightly by the fact that we only desire one of each jet type in an event. We can thus do a simple array selection to get our max-$\\eta$ light jet and our max-pt bjet, then do a <code>.cross()</code> between them to generate the pairs (and filter out empty events, though our event selection should disallow this). A <code>.cross()</code> is like a <code>.choose()</code>, but it generates pairs across arrays, rather than within one."
   ]
  },
  {
   "cell_type": "code",
   "execution_count": 21,
   "metadata": {},
   "outputs": [
    {
     "name": "stdout",
     "output_type": "stream",
     "text": [
      "Max-pt bjets:\n",
      "[[Jet], [Jet], [Jet], [Jet], [Jet], [Jet, ... [Jet], [Jet], [Jet], [Jet], [Jet]]\n",
      "\n",
      "Max-Eta Light Jets:\n",
      "[[Jet], [Jet], [Jet], [Jet], [Jet], [Jet, ... [Jet], [Jet], [Jet], [Jet], [Jet]]\n",
      "\n",
      "Crossed:\n",
      "[[{i0: Jet, i1: Jet}], [{i0: Jet, i1: Jet}], ... i1: Jet}], [{i0: Jet, i1: Jet}]]\n"
     ]
    }
   ],
   "source": [
    "# argmax() returns the index of the maximum-valued element. Just another way to get max for an unordered array.\n",
    "max_light_jets = light_jets[ak.local_index(light_jets, axis=1) == ak.argmax(light_jets.eta, axis=1)]\n",
    "max_bjets = bjets[ak.local_index(bjets, axis=1) == ak.argmax(bjets.pt, axis=1)] \n",
    "\n",
    "cross_jets = ak.cartesian({'i0': max_bjets, 'i1': max_light_jets})\n",
    "print('Max-pt bjets:')\n",
    "print(max_bjets)\n",
    "print('\\nMax-Eta Light Jets:')\n",
    "print(max_light_jets)\n",
    "print('\\nCrossed:')\n",
    "print(cross_jets)"
   ]
  },
  {
   "cell_type": "markdown",
   "metadata": {},
   "source": [
    "And now all we have to do is find the difference in $\\eta$ between the values of the pair. The respective pair-wise elements can once again be accessed by <code>.i0</code> and <code>.i1</code>. We take their difference (which is taking the difference of their Lorentz vector) and then ask for $\\eta$."
   ]
  },
  {
   "cell_type": "code",
   "execution_count": 22,
   "metadata": {},
   "outputs": [
    {
     "data": {
      "text/plain": [
       "<AxesSubplot:xlabel='$\\\\Delta \\\\eta$ between the max-$\\\\eta$ light jet and the max-pt bjet', ylabel='Events'>"
      ]
     },
     "execution_count": 22,
     "metadata": {},
     "output_type": "execute_result"
    },
    {
     "data": {
      "image/png": "[encoded data removed]",
      "text/plain": [
       "<Figure size 432x288 with 1 Axes>"
      ]
     },
     "metadata": {
      "needs_background": "light"
     },
     "output_type": "display_data"
    }
   ],
   "source": [
    "# For all event pts (:), get second index (1). Also, removed jagged structure to get flat array.\n",
    "mumu_fwdJet_leadbJet = np.abs(cross_jets['i0'].eta - cross_jets['i1'].eta)\n",
    "\n",
    "mumu_etadiff = hist.Hist(\"Events\",\n",
    "                      hist.Cat(name='channel', label='Channel'),\n",
    "                      hist.Bin(name='etadiff', label=r'$\\Delta \\eta$ between the max-$\\eta$ light jet and the max-pt bjet', n_or_arr=20, lo=0, hi=6))\n",
    "\n",
    "mumu_etadiff.fill(channel='mumu', etadiff=ak.flatten(mumu_fwdJet_leadbJet))\n",
    "hist.plot1d(mumu_etadiff, overlay='channel')"
   ]
  },
  {
   "cell_type": "markdown",
   "metadata": {},
   "source": [
    "<h2>Demo</h2>\n",
    "<p>Alright, we've seen a lot of neat columnar tools, but it doesn't end there! Coffea also makes scale-out easy. All we have to do is bundle up our work in the <code>process.ProcessorABC</code> class, and we can feed in however many files we desire (which is, probably, more than 1) with ease. This class also features several executors which allow deployment on Dask, Spark, and Parsl, as well as your local machine. \n",
    "\n",
    "<p>To end this tutorial, we will diverge from this notebook a little bit, as I will demonstrate a run of the analysis on a Dask cluster; specifically, the coffea-casa analysis facility mentioned earlier. If you want to look at, use as a reference, or play with my analysis later, you can run <a href=\"./analysis-local.ipynb\">the analysis file that I've provided</a>, which uses the futures_executor to execute locally. You will, however, need a CMS certificate to be able to access its datasets. Failure to do so will result in the oh-so-familiar <code>OSError: [FATAL] Invalid address</code>."
   ]
  },
  {
   "cell_type": "markdown",
   "metadata": {},
   "source": [
    "<h2>Acknowledgements</h2>\n",
    "<p>These projects are supported by National Science Foundation grants ACI-1450323 (through DIANA-HEP), OAC-1836650 (through IRIS-HEP), and PHY-1624356 (through U.S. CMS).</p>"
   ]
  }
 ],
 "metadata": {
  "kernelspec": {
   "display_name": "Python 3",
   "language": "python",
   "name": "python3"
  },
  "language_info": {
   "codemirror_mode": {
    "name": "ipython",
    "version": 3
   },
   "file_extension": ".py",
   "mimetype": "text/x-python",
   "name": "python",
   "nbconvert_exporter": "python",
   "pygments_lexer": "ipython3",
   "version": "3.8.8"
  }
 },
 "nbformat": 4,
 "nbformat_minor": 4
}
