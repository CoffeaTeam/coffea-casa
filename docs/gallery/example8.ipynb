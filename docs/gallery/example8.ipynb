{
 "cells": [
  {
   "cell_type": "markdown",
   "metadata": {},
   "source": [
    "# Coffea-Casa Benchmark Example 8"
   ]
  },
  {
   "cell_type": "code",
   "execution_count": 1,
   "metadata": {},
   "outputs": [],
   "source": [
    "import numpy as np\n",
    "%matplotlib inline\n",
    "from coffea import hist\n",
    "import coffea.processor as processor\n",
    "import awkward as ak\n",
    "from coffea.nanoevents import schemas"
   ]
  },
  {
   "cell_type": "code",
   "execution_count": 2,
   "metadata": {},
   "outputs": [],
   "source": [
    "# This program plots the transverse mass of MET and a third lepton, where the third lepton is associated with a lepton pair\n",
    "# that has the same flavor, opposite charge, and closest mass to 91.2.\n",
    "\n",
    "import math\n",
    "\n",
    "class Processor(processor.ProcessorABC):\n",
    "    def __init__(self):\n",
    "        dataset_axis = hist.Cat(\"dataset\", \"MET and Third Lepton\")\n",
    "        muon_axis = hist.Bin(\"massT\", \"Transverse Mass\", 50, 15, 250)\n",
    "        \n",
    "        self._accumulator = processor.dict_accumulator({\n",
    "            'massT': hist.Hist(\"Counts\", dataset_axis, muon_axis),\n",
    "            'cutflow': processor.defaultdict_accumulator(int)\n",
    "        })\n",
    "    \n",
    "    @property\n",
    "    def accumulator(self):\n",
    "        return self._accumulator\n",
    "    \n",
    "    def process(self, events):\n",
    "        output = self.accumulator.identity()\n",
    "        \n",
    "        dataset = events.metadata[\"dataset\"]\n",
    "        \n",
    "        # Keep track of muons and electrons by tagging them 0/1.\n",
    "        muons = ak.with_field(events.Muon, 0, 'flavor')\n",
    "        electrons = ak.with_field(events.Electron, 1, 'flavor')\n",
    "        MET = events.MET\n",
    "        \n",
    "        output['cutflow']['all events'] += ak.size(events.MET, axis=0)\n",
    "        \n",
    "        # A few reasonable muon and electron selection cuts\n",
    "        muons = muons[(muons.pt > 10) & (np.abs(muons.eta) < 2.4)]\n",
    "        electrons = electrons[(electrons.pt > 10) & (np.abs(electrons.eta) < 2.5)]\n",
    "        \n",
    "        output['cutflow']['all muons'] += ak.sum(ak.count(muons, axis=1))\n",
    "        output['cutflow']['all electrons'] += ak.sum(ak.count(electrons, axis=1))\n",
    "\n",
    "        # Stack muons and electrons into a single array.\n",
    "        leptons = ak.with_name(ak.concatenate([muons, electrons], axis=1), 'PtEtaPhiMCandidate')\n",
    "        \n",
    "        # Filter out events with less than 3 leptons.\n",
    "        trileptons = leptons[ak.num(leptons, axis=1) >= 3]\n",
    "        output['cutflow']['trileptons'] += ak.sum(ak.num(trileptons, axis=1))\n",
    "        \n",
    "        # Generate the indices of every pair; indices because we'll be removing these elements later.\n",
    "        lepton_pairs = ak.argcombinations(trileptons, 2, fields=['i0', 'i1'])\n",
    "        \n",
    "        # Select pairs that are SFOS.\n",
    "        SFOS_pairs = lepton_pairs[(trileptons[lepton_pairs['i0']].flavor == trileptons[lepton_pairs['i1']].flavor) & (trileptons[lepton_pairs['i0']].charge != trileptons[lepton_pairs['i1']].charge)]\n",
    "        \n",
    "        # Find the pair with mass closest to Z.\n",
    "        closest_pairs = SFOS_pairs[ak.local_index(SFOS_pairs) == ak.argmin(np.abs((trileptons[SFOS_pairs['i0']] + trileptons[SFOS_pairs['i1']]).mass - 91.2), axis=1)]\n",
    "        \n",
    "        # Make trileptons and closest_pairs have same shape. First, fill nones with empty arrays. Then filter out events that don't meet the pair requirement.\n",
    "        closest_pairs = ak.fill_none(closest_pairs, [], axis=0)\n",
    "        closest_pairs = closest_pairs[ak.num(closest_pairs) > 0]\n",
    "        trileptons = trileptons[ak.num(closest_pairs) > 0]\n",
    "        MET = MET[ak.num(closest_pairs) > 0]\n",
    "        \n",
    "        # Remove elements of the closest pairs from leptons, because we want the pt of the third lepton.\n",
    "        trileptons_no_pair = trileptons[(ak.local_index(trileptons) != ak.flatten(closest_pairs.i0)) & (ak.local_index(trileptons) != ak.flatten(closest_pairs.i1))]\n",
    "        \n",
    "        # Find the highest-pt lepton out of the ones that remain.\n",
    "        leading_lepton = trileptons_no_pair[ak.argmax(trileptons_no_pair.pt, axis=1)]\n",
    "        output['cutflow']['number of final leading leptons'] += ak.sum(ak.num(trileptons_no_pair, axis=1))\n",
    "        \n",
    "        # Cross MET with the leading lepton.\n",
    "        met_plus_lep = ak.cartesian({'i0': MET, 'i1': leading_lepton})\n",
    "        \n",
    "        # Do some math to get what we want.\n",
    "        dphi_met_lep = (met_plus_lep.i0.phi - met_plus_lep.i1.phi + math.pi) % (2*math.pi) - math.pi\n",
    "        mt_lep = np.sqrt(2.0*met_plus_lep.i0.pt*met_plus_lep.i1.pt*(1.0-np.cos(dphi_met_lep)))\n",
    "        \n",
    "        output['massT'].fill(dataset=dataset, massT=ak.flatten(mt_lep))\n",
    "        \n",
    "        return output\n",
    "\n",
    "    def postprocess(self, accumulator):\n",
    "        return accumulator"
   ]
  },
  {
   "cell_type": "code",
   "execution_count": 3,
   "metadata": {},
   "outputs": [
    {
     "name": "stdout",
     "output_type": "stream",
     "text": [
      "/bin/bash: /opt/conda/lib/libtinfo.so.6: no version information available (required by /bin/bash)\n",
      "Requirement already satisfied: awkward==1.7.0 in /opt/conda/lib/python3.8/site-packages (1.7.0)\n",
      "Requirement already satisfied: numpy>=1.13.1 in /opt/conda/lib/python3.8/site-packages (from awkward==1.7.0) (1.21.2)\n",
      "Requirement already satisfied: setuptools in /opt/conda/lib/python3.8/site-packages (from awkward==1.7.0) (58.2.0)\n"
     ]
    }
   ],
   "source": [
    "from dask.distributed import Client\n",
    "\n",
    "client = Client(\"tls://localhost:8786\")"
   ]
  },
  {
   "cell_type": "code",
   "execution_count": 4,
   "metadata": {},
   "outputs": [
    {
     "name": "stdout",
     "output_type": "stream",
     "text": [
      "[########################################] | 100% Completed |  5min 12.4s\r"
     ]
    },
    {
     "data": {
      "text/plain": [
       "{'bytesread': 9982563224,\n",
       " 'columns': {'Electron_charge',\n",
       "  'Electron_cutBasedId',\n",
       "  'Electron_dxy',\n",
       "  'Electron_dxyErr',\n",
       "  'Electron_dz',\n",
       "  'Electron_dzErr',\n",
       "  'Electron_eta',\n",
       "  'Electron_genPartIdx',\n",
       "  'Electron_jetIdx',\n",
       "  'Electron_mass',\n",
       "  'Electron_pfId',\n",
       "  'Electron_pfRelIso03_all',\n",
       "  'Electron_phi',\n",
       "  'Electron_pt',\n",
       "  'MET_CovXX',\n",
       "  'MET_CovXY',\n",
       "  'MET_CovYY',\n",
       "  'MET_phi',\n",
       "  'MET_pt',\n",
       "  'MET_significance',\n",
       "  'MET_sumet',\n",
       "  'Muon_charge',\n",
       "  'Muon_dxy',\n",
       "  'Muon_dxyErr',\n",
       "  'Muon_dz',\n",
       "  'Muon_dzErr',\n",
       "  'Muon_eta',\n",
       "  'Muon_genPartIdx',\n",
       "  'Muon_jetIdx',\n",
       "  'Muon_mass',\n",
       "  'Muon_pfRelIso03_all',\n",
       "  'Muon_pfRelIso04_all',\n",
       "  'Muon_phi',\n",
       "  'Muon_pt',\n",
       "  'Muon_softId',\n",
       "  'Muon_tightId',\n",
       "  'nElectron',\n",
       "  'nJet',\n",
       "  'nMuon'},\n",
       " 'entries': 53446198,\n",
       " 'processtime': 8658.274055480957,\n",
       " 'chunks': 534}"
      ]
     },
     "execution_count": 4,
     "metadata": {},
     "output_type": "execute_result"
    }
   ],
   "source": [
    "fileset = {'SingleMu' : [\"root://eospublic.cern.ch//eos/root-eos/benchmark/Run2012B_SingleMu.root\"]}\n",
    "\n",
    "executor = processor.DaskExecutor(client=client)\n",
    "\n",
    "run = processor.Runner(executor=executor,\n",
    "                        schema=schemas.NanoAODSchema,\n",
    "                        savemetrics=True\n",
    "                      )\n",
    "\n",
    "output, metrics = run(fileset, \"Events\", processor_instance=Processor())\n",
    "\n",
    "metrics"
   ]
  },
  {
   "cell_type": "code",
   "execution_count": 5,
   "metadata": {},
   "outputs": [
    {
     "data": {
      "text/plain": [
       "<AxesSubplot:xlabel='Transverse Mass', ylabel='Counts'>"
      ]
     },
     "execution_count": 5,
     "metadata": {},
     "output_type": "execute_result"
    },
    {
     "data": {
      "image/png": "[encoded data removed]",
      "text/plain": [
       "<Figure size 432x288 with 1 Axes>"
      ]
     },
     "metadata": {
      "needs_background": "light"
     },
     "output_type": "display_data"
    }
   ],
   "source": [
    "hist.plot1d(output['massT'], overlay='dataset', fill_opts={'edgecolor': (0,0,0,0.3), 'alpha': 0.8})"
   ]
  },
  {
   "cell_type": "code",
   "execution_count": 6,
   "metadata": {},
   "outputs": [
    {
     "name": "stdout",
     "output_type": "stream",
     "text": [
      "all events 53446198\n",
      "all muons 991421725\n",
      "all electrons 87391040\n",
      "trileptons 5043516\n",
      "number of final leading leptons 1227755\n"
     ]
    }
   ],
   "source": [
    "for key, value in output['cutflow'].items():\n",
    "    print(key, value)"
   ]
  }
 ],
 "metadata": {
  "kernelspec": {
   "display_name": "Python 3 (ipykernel)",
   "language": "python",
   "name": "python3"
  },
  "language_info": {
   "codemirror_mode": {
    "name": "ipython",
    "version": 3
   },
   "file_extension": ".py",
   "mimetype": "text/x-python",
   "name": "python",
   "nbconvert_exporter": "python",
   "pygments_lexer": "ipython3",
   "version": "3.8.12"
  }
 },
 "nbformat": 4,
 "nbformat_minor": 4
}
