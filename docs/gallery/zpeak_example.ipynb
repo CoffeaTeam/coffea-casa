{
 "cells": [
  {
   "cell_type": "markdown",
   "id": "116b85c2-8ebc-4c94-9232-13a2f09ef83c",
   "metadata": {},
   "source": [
    "# Z-Peak Example"
   ]
  },
  {
   "cell_type": "code",
   "execution_count": 1,
   "id": "2f3f289a-e426-4cbf-b82b-25614200b955",
   "metadata": {},
   "outputs": [],
   "source": [
    "import numpy as np\n",
    "%matplotlib inline\n",
    "from coffea import hist\n",
    "import coffea.processor as processor\n",
    "import awkward as ak\n",
    "from coffea.nanoevents import schemas"
   ]
  },
  {
   "cell_type": "code",
   "execution_count": 2,
   "id": "25457f94-575c-4f47-9c30-3a638a75e398",
   "metadata": {},
   "outputs": [],
   "source": [
    "class Processor(processor.ProcessorABC):\n",
    "    def __init__(self):\n",
    "        dataset_axis = hist.Cat(\"dataset\", \"Dataset\")\n",
    "        dimu_mass_axis = hist.Bin(\"dimu_mass\", \"$\\mu\\mu$ Mass [GeV]\", 50, 20, 120)\n",
    "        \n",
    "        self._accumulator = processor.dict_accumulator({\n",
    "            'dimu_mass': hist.Hist(\"Counts\", dataset_axis, dimu_mass_axis),\n",
    "        })\n",
    "    \n",
    "    @property\n",
    "    def accumulator(self):\n",
    "        return self._accumulator\n",
    "    \n",
    "    def process(self, events):\n",
    "        output = self.accumulator.identity()\n",
    "        \n",
    "        dataset = events.metadata[\"dataset\"]\n",
    "        mu = events.Muon\n",
    "        dimu_neutral = mu[(ak.num(mu) == 2) & (ak.sum(mu.charge, axis=1) == 0)]\n",
    "        dimu_mass = (dimu_neutral[:, 0] + dimu_neutral[:, 1]).mass\n",
    "        output['dimu_mass'].fill(dataset=dataset, dimu_mass=dimu_mass)\n",
    "        return output\n",
    "\n",
    "    def postprocess(self, accumulator):\n",
    "        return accumulator"
   ]
  },
  {
   "cell_type": "code",
   "execution_count": 3,
   "id": "400a4d43-69cc-448e-9e1b-4d19f4b51730",
   "metadata": {},
   "outputs": [],
   "source": [
    "from dask.distributed import Client\n",
    "\n",
    "client = Client(\"tls://localhost:8786\")"
   ]
  },
  {
   "cell_type": "code",
   "execution_count": 4,
   "id": "b3a22fb0-94c7-45cd-ab18-7a948f3d644d",
   "metadata": {},
   "outputs": [
    {
     "name": "stdout",
     "output_type": "stream",
     "text": [
      "[########################################] | 100% Completed | 21.3s\r"
     ]
    }
   ],
   "source": [
    "fileset = {'DoubleMu' : ['root://xcache//store/data/Run2018A/DoubleMuon/NANOAOD/02Apr2020-v1/30000/0555868D-6B32-D249-9ED1-6B9A6AABDAF7.root',\n",
    "                        'root://xcache//store/data/Run2018A/DoubleMuon/NANOAOD/02Apr2020-v1/30000/07796DC0-9F65-F940-AAD1-FE82262B4B03.root',\n",
    "                        'root://xcache//store/data/Run2018A/DoubleMuon/NANOAOD/02Apr2020-v1/30000/09BED5A5-E6CC-AC4E-9344-B60B3A186CFA.root']}\n",
    "\n",
    "executor = processor.DaskExecutor(client=client)\n",
    "\n",
    "run = processor.Runner(executor=executor,\n",
    "                        schema=schemas.NanoAODSchema,\n",
    "                      )\n",
    "\n",
    "output = run(fileset, \"Events\", processor_instance=Processor())"
   ]
  },
  {
   "cell_type": "code",
   "execution_count": 5,
   "id": "67e2988b-c990-470f-95f3-cad79e0d4ff7",
   "metadata": {},
   "outputs": [
    {
     "data": {
      "text/plain": [
       "<AxesSubplot:xlabel='$\\\\mu\\\\mu$ Mass [GeV]', ylabel='Counts'>"
      ]
     },
     "execution_count": 5,
     "metadata": {},
     "output_type": "execute_result"
    },
    {
     "data": {
      "image/png": "[encoded data removed]",
      "text/plain": [
       "<Figure size 432x288 with 1 Axes>"
      ]
     },
     "metadata": {
      "needs_background": "light"
     },
     "output_type": "display_data"
    }
   ],
   "source": [
    "hist.plot1d(output['dimu_mass'], overlay='dataset', fill_opts={'edgecolor': (0,0,0,0.3), 'alpha': 0.8})"
   ]
  }
 ],
 "metadata": {
  "kernelspec": {
   "display_name": "Python 3 (ipykernel)",
   "language": "python",
   "name": "python3"
  },
  "language_info": {
   "codemirror_mode": {
    "name": "ipython",
    "version": 3
   },
   "file_extension": ".py",
   "mimetype": "text/x-python",
   "name": "python",
   "nbconvert_exporter": "python",
   "pygments_lexer": "ipython3",
   "version": "3.8.12"
  }
 },
 "nbformat": 4,
 "nbformat_minor": 5
}
